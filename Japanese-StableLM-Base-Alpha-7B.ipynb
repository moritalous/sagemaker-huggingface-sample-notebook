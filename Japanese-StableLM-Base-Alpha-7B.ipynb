{
 "cells": [
  {
   "cell_type": "markdown",
   "metadata": {},
   "source": [
    "# Hugging Faceで公開されている大規模言語モデルをSageMakerにデプロイ\n",
    "\n",
    "\n",
    "* 対象モデル\n",
    "  \n",
    "  stabilityai/japanese-stablelm-base-alpha-7b\n",
    "  \n",
    "  https://huggingface.co/stabilityai/japanese-stablelm-base-alpha-7b\n"
   ]
  },
  {
   "cell_type": "markdown",
   "metadata": {},
   "source": [
    "### SageMakerライブラリーのインストール"
   ]
  },
  {
   "cell_type": "code",
   "execution_count": null,
   "metadata": {},
   "outputs": [],
   "source": [
    "%pip install sagemaker --upgrade\n"
   ]
  },
  {
   "cell_type": "markdown",
   "metadata": {},
   "source": [
    "### インポート"
   ]
  },
  {
   "cell_type": "code",
   "execution_count": null,
   "metadata": {},
   "outputs": [],
   "source": [
    "import sagemaker\n",
    "import boto3\n"
   ]
  },
  {
   "cell_type": "markdown",
   "metadata": {},
   "source": [
    "### IAMロールの取得"
   ]
  },
  {
   "cell_type": "code",
   "execution_count": null,
   "metadata": {},
   "outputs": [],
   "source": [
    "try:\n",
    "\trole = sagemaker.get_execution_role()\n",
    "except ValueError:\n",
    "\tiam = boto3.client('iam')\n",
    "\trole_name = 'AmazonSageMaker-ExecutionRole-20230617T201891' # Role name with `AmazonSageMakerFullAccess` policy attached\n",
    "\trole = iam.get_role(RoleName=role_name)['Role']['Arn']\n"
   ]
  },
  {
   "cell_type": "markdown",
   "metadata": {},
   "source": [
    "### モデル名などのパラメーターを指定"
   ]
  },
  {
   "cell_type": "code",
   "execution_count": null,
   "metadata": {},
   "outputs": [],
   "source": [
    "model_id = 'stabilityai/japanese-stablelm-base-alpha-7b'\n",
    "instance_type = 'ml.g5.2xlarge'\n"
   ]
  },
  {
   "cell_type": "markdown",
   "metadata": {},
   "source": [
    "### SageMakerへデプロイ\n",
    "\n",
    "`HF_MODEL_TRUST_REMOTE_CODE`の指定が必要です"
   ]
  },
  {
   "cell_type": "code",
   "execution_count": null,
   "metadata": {},
   "outputs": [],
   "source": [
    "from sagemaker.huggingface.model import HuggingFaceModel\n",
    "\n",
    "# Hub model configuration <https://huggingface.co/models>\n",
    "hub = {\n",
    "  'HF_MODEL_ID': model_id, # model_id from hf.co/models\n",
    "  'HF_TASK':'text-generation',          # NLP task you want to use for predictions\n",
    "  'HF_MODEL_TRUST_REMOTE_CODE': 'true'\n",
    "}\n",
    "\n",
    "# create Hugging Face Model Class\n",
    "huggingface_model = HuggingFaceModel(\n",
    "  env=hub,                            # configuration for loading model from Hub\n",
    "  role=role,                          # IAM role with permissions to create an endpoint\n",
    "  transformers_version='4.28',        # Transformers version used\n",
    "  pytorch_version='2.0',             # PyTorch version used\n",
    "  py_version='py310',                  # Python version used\n",
    ")\n",
    "\n",
    "# deploy model to SageMaker Inference\n",
    "predictor = huggingface_model.deploy(\n",
    "  initial_instance_count=1,\n",
    "  instance_type=instance_type,\n",
    ")\n"
   ]
  },
  {
   "cell_type": "markdown",
   "metadata": {},
   "source": [
    "### 推論"
   ]
  },
  {
   "cell_type": "code",
   "execution_count": null,
   "metadata": {},
   "outputs": [],
   "source": [
    "prompt = \"\"\"\n",
    "AI で科学研究を加速するには、\n",
    "\"\"\".strip()\n",
    "\n",
    "data = {\n",
    "    'inputs': prompt,\n",
    "    'parameters': {\n",
    "        'max_new_tokens': 128,\n",
    "        'temperature': 1,\n",
    "        'top_p': 0.95,\n",
    "        'do_sample': True,\n",
    "    }\n",
    "}\n",
    "\n",
    "# request\n",
    "result = predictor.predict(data)\n",
    "\n",
    "result\n"
   ]
  },
  {
   "cell_type": "markdown",
   "metadata": {},
   "source": [
    "### エンドポイントの削除"
   ]
  },
  {
   "cell_type": "code",
   "execution_count": null,
   "metadata": {},
   "outputs": [],
   "source": [
    "predictor.delete_endpoint(delete_endpoint_config=False)\n",
    "predictor.delete_model()\n"
   ]
  }
 ],
 "metadata": {
  "kernelspec": {
   "display_name": "Python 3",
   "language": "python",
   "name": "python3"
  },
  "language_info": {
   "codemirror_mode": {
    "name": "ipython",
    "version": 3
   },
   "file_extension": ".py",
   "mimetype": "text/x-python",
   "name": "python",
   "nbconvert_exporter": "python",
   "pygments_lexer": "ipython3",
   "version": "3.8.10"
  },
  "orig_nbformat": 4
 },
 "nbformat": 4,
 "nbformat_minor": 2
}
