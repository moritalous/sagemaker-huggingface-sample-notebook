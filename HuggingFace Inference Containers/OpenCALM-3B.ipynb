{
 "cells": [
  {
   "cell_type": "markdown",
   "metadata": {},
   "source": [
    "# Hugging Faceで公開されている大規模言語モデルをSageMakerにデプロイ\n",
    "\n",
    "\n",
    "* 対象モデル\n",
    "  \n",
    "  cyberagent/open-calm-3b\n",
    "  \n",
    "  https://huggingface.co/cyberagent/open-calm-3b\n",
    "\n",
    "* HuggingFace Inference Containers\n",
    "\n",
    "  https://huggingface.co/docs/sagemaker/index\n"
   ]
  },
  {
   "cell_type": "markdown",
   "metadata": {},
   "source": [
    "### SageMakerライブラリーのインストール"
   ]
  },
  {
   "cell_type": "code",
   "execution_count": 6,
   "metadata": {},
   "outputs": [
    {
     "name": "stdout",
     "output_type": "stream",
     "text": [
      "Requirement already up-to-date: sagemaker in /home/vscode/.local/lib/python3.8/site-packages (2.181.0)\n",
      "Requirement already satisfied, skipping upgrade: pathos in /home/vscode/.local/lib/python3.8/site-packages (from sagemaker) (0.3.1)\n",
      "Requirement already satisfied, skipping upgrade: numpy<2.0,>=1.9.0 in /home/vscode/.local/lib/python3.8/site-packages (from sagemaker) (1.24.4)\n",
      "Requirement already satisfied, skipping upgrade: google-pasta in /home/vscode/.local/lib/python3.8/site-packages (from sagemaker) (0.2.0)\n",
      "Requirement already satisfied, skipping upgrade: jsonschema in /home/vscode/.local/lib/python3.8/site-packages (from sagemaker) (4.19.0)\n",
      "Requirement already satisfied, skipping upgrade: boto3<2.0,>=1.26.131 in /home/vscode/.local/lib/python3.8/site-packages (from sagemaker) (1.28.35)\n",
      "Requirement already satisfied, skipping upgrade: schema in /home/vscode/.local/lib/python3.8/site-packages (from sagemaker) (0.7.5)\n",
      "Requirement already satisfied, skipping upgrade: smdebug-rulesconfig==1.0.1 in /home/vscode/.local/lib/python3.8/site-packages (from sagemaker) (1.0.1)\n",
      "Requirement already satisfied, skipping upgrade: protobuf<5.0,>=3.12 in /home/vscode/.local/lib/python3.8/site-packages (from sagemaker) (4.24.2)\n",
      "Requirement already satisfied, skipping upgrade: PyYAML~=6.0 in /home/vscode/.local/lib/python3.8/site-packages (from sagemaker) (6.0.1)\n",
      "Requirement already satisfied, skipping upgrade: cloudpickle==2.2.1 in /home/vscode/.local/lib/python3.8/site-packages (from sagemaker) (2.2.1)\n",
      "Requirement already satisfied, skipping upgrade: pandas in /home/vscode/.local/lib/python3.8/site-packages (from sagemaker) (2.0.3)\n",
      "Requirement already satisfied, skipping upgrade: tblib==1.7.0 in /home/vscode/.local/lib/python3.8/site-packages (from sagemaker) (1.7.0)\n",
      "Requirement already satisfied, skipping upgrade: attrs<24,>=23.1.0 in /home/vscode/.local/lib/python3.8/site-packages (from sagemaker) (23.1.0)\n",
      "Requirement already satisfied, skipping upgrade: platformdirs in /home/vscode/.local/lib/python3.8/site-packages (from sagemaker) (3.10.0)\n",
      "Requirement already satisfied, skipping upgrade: importlib-metadata<7.0,>=1.4.0 in /home/vscode/.local/lib/python3.8/site-packages (from sagemaker) (6.8.0)\n",
      "Requirement already satisfied, skipping upgrade: packaging>=20.0 in /home/vscode/.local/lib/python3.8/site-packages (from sagemaker) (23.1)\n",
      "Requirement already satisfied, skipping upgrade: pox>=0.3.3 in /home/vscode/.local/lib/python3.8/site-packages (from pathos->sagemaker) (0.3.3)\n",
      "Requirement already satisfied, skipping upgrade: multiprocess>=0.70.15 in /home/vscode/.local/lib/python3.8/site-packages (from pathos->sagemaker) (0.70.15)\n",
      "Requirement already satisfied, skipping upgrade: ppft>=1.7.6.7 in /home/vscode/.local/lib/python3.8/site-packages (from pathos->sagemaker) (1.7.6.7)\n",
      "Requirement already satisfied, skipping upgrade: dill>=0.3.7 in /home/vscode/.local/lib/python3.8/site-packages (from pathos->sagemaker) (0.3.7)\n",
      "Requirement already satisfied, skipping upgrade: six in /home/vscode/.local/lib/python3.8/site-packages (from google-pasta->sagemaker) (1.16.0)\n",
      "Requirement already satisfied, skipping upgrade: rpds-py>=0.7.1 in /home/vscode/.local/lib/python3.8/site-packages (from jsonschema->sagemaker) (0.9.2)\n",
      "Requirement already satisfied, skipping upgrade: referencing>=0.28.4 in /home/vscode/.local/lib/python3.8/site-packages (from jsonschema->sagemaker) (0.30.2)\n",
      "Requirement already satisfied, skipping upgrade: importlib-resources>=1.4.0; python_version < \"3.9\" in /home/vscode/.local/lib/python3.8/site-packages (from jsonschema->sagemaker) (6.0.1)\n",
      "Requirement already satisfied, skipping upgrade: pkgutil-resolve-name>=1.3.10; python_version < \"3.9\" in /home/vscode/.local/lib/python3.8/site-packages (from jsonschema->sagemaker) (1.3.10)\n",
      "Requirement already satisfied, skipping upgrade: jsonschema-specifications>=2023.03.6 in /home/vscode/.local/lib/python3.8/site-packages (from jsonschema->sagemaker) (2023.7.1)\n",
      "Requirement already satisfied, skipping upgrade: jmespath<2.0.0,>=0.7.1 in /home/vscode/.local/lib/python3.8/site-packages (from boto3<2.0,>=1.26.131->sagemaker) (1.0.1)\n",
      "Requirement already satisfied, skipping upgrade: botocore<1.32.0,>=1.31.35 in /home/vscode/.local/lib/python3.8/site-packages (from boto3<2.0,>=1.26.131->sagemaker) (1.31.35)\n",
      "Requirement already satisfied, skipping upgrade: s3transfer<0.7.0,>=0.6.0 in /home/vscode/.local/lib/python3.8/site-packages (from boto3<2.0,>=1.26.131->sagemaker) (0.6.2)\n",
      "Requirement already satisfied, skipping upgrade: contextlib2>=0.5.5 in /home/vscode/.local/lib/python3.8/site-packages (from schema->sagemaker) (21.6.0)\n",
      "Requirement already satisfied, skipping upgrade: pytz>=2020.1 in /home/vscode/.local/lib/python3.8/site-packages (from pandas->sagemaker) (2023.3)\n",
      "Requirement already satisfied, skipping upgrade: python-dateutil>=2.8.2 in /home/vscode/.local/lib/python3.8/site-packages (from pandas->sagemaker) (2.8.2)\n",
      "Requirement already satisfied, skipping upgrade: tzdata>=2022.1 in /home/vscode/.local/lib/python3.8/site-packages (from pandas->sagemaker) (2023.3)\n",
      "Requirement already satisfied, skipping upgrade: zipp>=0.5 in /home/vscode/.local/lib/python3.8/site-packages (from importlib-metadata<7.0,>=1.4.0->sagemaker) (3.16.2)\n",
      "Requirement already satisfied, skipping upgrade: urllib3<1.27,>=1.25.4 in /home/vscode/.local/lib/python3.8/site-packages (from botocore<1.32.0,>=1.31.35->boto3<2.0,>=1.26.131->sagemaker) (1.26.16)\n",
      "Note: you may need to restart the kernel to use updated packages.\n"
     ]
    }
   ],
   "source": [
    "%pip install sagemaker --upgrade\n"
   ]
  },
  {
   "cell_type": "markdown",
   "metadata": {},
   "source": [
    "---"
   ]
  },
  {
   "cell_type": "markdown",
   "metadata": {},
   "source": [
    "### パラメーターを指定"
   ]
  },
  {
   "cell_type": "code",
   "execution_count": 7,
   "metadata": {},
   "outputs": [],
   "source": [
    "model_id = 'cyberagent/open-calm-3b'\n",
    "instance_type = 'ml.g5.2xlarge'\n"
   ]
  },
  {
   "cell_type": "markdown",
   "metadata": {},
   "source": [
    "### インポート"
   ]
  },
  {
   "cell_type": "code",
   "execution_count": 8,
   "metadata": {},
   "outputs": [],
   "source": [
    "import sagemaker\n",
    "import boto3\n"
   ]
  },
  {
   "cell_type": "markdown",
   "metadata": {},
   "source": [
    "### IAMロールの取得"
   ]
  },
  {
   "cell_type": "code",
   "execution_count": 9,
   "metadata": {},
   "outputs": [
    {
     "name": "stderr",
     "output_type": "stream",
     "text": [
      "Couldn't call 'get_role' to get Role ARN from role name inspiron14 to get Role path.\n"
     ]
    }
   ],
   "source": [
    "try:\n",
    "\trole = sagemaker.get_execution_role()\n",
    "except ValueError:\n",
    "\tiam = boto3.client('iam')\n",
    "\trole_name = 'AmazonSageMaker-ExecutionRole-20230617T201891' # Role name with `AmazonSageMakerFullAccess` policy attached\n",
    "\trole = iam.get_role(RoleName=role_name)['Role']['Arn']\n"
   ]
  },
  {
   "cell_type": "markdown",
   "metadata": {},
   "source": [
    "### SageMakerへデプロイ"
   ]
  },
  {
   "cell_type": "code",
   "execution_count": 10,
   "metadata": {},
   "outputs": [
    {
     "name": "stdout",
     "output_type": "stream",
     "text": [
      "-----------!"
     ]
    }
   ],
   "source": [
    "from sagemaker.huggingface.model import HuggingFaceModel\n",
    "\n",
    "# Hub model configuration <https://huggingface.co/models>\n",
    "hub = {\n",
    "  'HF_MODEL_ID': model_id, # model_id from hf.co/models\n",
    "  'HF_TASK':'text-generation'          # NLP task you want to use for predictions\n",
    "}\n",
    "\n",
    "# create Hugging Face Model Class\n",
    "huggingface_model = HuggingFaceModel(\n",
    "  env=hub,                            # configuration for loading model from Hub\n",
    "  role=role,                          # IAM role with permissions to create an endpoint\n",
    "  transformers_version='4.28',        # Transformers version used\n",
    "  pytorch_version='2.0',              # PyTorch version used\n",
    "  py_version='py310',                 # Python version used\n",
    ")\n",
    "\n",
    "# deploy model to SageMaker Inference\n",
    "predictor = huggingface_model.deploy(\n",
    "  initial_instance_count=1,\n",
    "  instance_type=instance_type,\n",
    "  container_startup_health_check_timeout=300,\n",
    ")\n"
   ]
  },
  {
   "cell_type": "markdown",
   "metadata": {},
   "source": [
    "### 推論"
   ]
  },
  {
   "cell_type": "code",
   "execution_count": 11,
   "metadata": {},
   "outputs": [
    {
     "name": "stderr",
     "output_type": "stream",
     "text": [
      "/home/vscode/.local/lib/python3.8/site-packages/tqdm/auto.py:21: TqdmWarning: IProgress not found. Please update jupyter and ipywidgets. See https://ipywidgets.readthedocs.io/en/stable/user_install.html\n",
      "  from .autonotebook import tqdm as notebook_tqdm\n"
     ]
    },
    {
     "data": {
      "text/plain": [
       "[{'generated_text': 'AIによって私達の暮らしは、大きく変わりつつあります。そんな中今回紹介するのは、「VRで未来の生活を体験できる」というイベント「HourFace2.0, VR Future Moment.」です。\\n3D空間で展開される仮想現実を体感できそうな空間・時間軸の中で様々な体験ができるという内容になっていますが・・これはちょっと凄いかも!'}]"
      ]
     },
     "execution_count": 11,
     "metadata": {},
     "output_type": "execute_result"
    }
   ],
   "source": [
    "from transformers import AutoTokenizer\n",
    "tokenizer = AutoTokenizer.from_pretrained(model_id)\n",
    "\n",
    "data = {\n",
    "  'inputs': 'AIによって私達の暮らしは、',\n",
    "  'parameters': {\n",
    "    'max_new_tokens': 64,\n",
    "    'do_sample': True,\n",
    "    'temperature': 0.7,\n",
    "    'top_p': 0.9,\n",
    "    'repetition_penalty': 1.05,\n",
    "    'pad_token_id': tokenizer.pad_token_id,\n",
    "  }\n",
    "}\n",
    "\n",
    "# request\n",
    "result = predictor.predict(data)\n",
    "\n",
    "result\n"
   ]
  },
  {
   "cell_type": "markdown",
   "metadata": {},
   "source": [
    "### エンドポイントの削除"
   ]
  },
  {
   "cell_type": "code",
   "execution_count": 12,
   "metadata": {},
   "outputs": [],
   "source": [
    "predictor.delete_endpoint(delete_endpoint_config=False)\n",
    "predictor.delete_model()\n"
   ]
  }
 ],
 "metadata": {
  "kernelspec": {
   "display_name": "Python 3",
   "language": "python",
   "name": "python3"
  },
  "language_info": {
   "codemirror_mode": {
    "name": "ipython",
    "version": 3
   },
   "file_extension": ".py",
   "mimetype": "text/x-python",
   "name": "python",
   "nbconvert_exporter": "python",
   "pygments_lexer": "ipython3",
   "version": "3.8.10"
  },
  "orig_nbformat": 4
 },
 "nbformat": 4,
 "nbformat_minor": 2
}
