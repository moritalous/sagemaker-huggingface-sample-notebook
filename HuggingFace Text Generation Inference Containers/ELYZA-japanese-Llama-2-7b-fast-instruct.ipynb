{
 "cells": [
  {
   "cell_type": "markdown",
   "metadata": {},
   "source": [
    "# Hugging Faceで公開されている大規模言語モデルをSageMakerにデプロイ\n",
    "\n",
    "\n",
    "* 対象モデル\n",
    "  \n",
    "  elyza/ELYZA-japanese-Llama-2-7b-fast-instruct\n",
    "  \n",
    "  https://huggingface.co/elyza/ELYZA-japanese-Llama-2-7b-fast-instruct\n",
    "\n",
    "* HuggingFace Text Generation Inference Containers\n",
    "\n",
    "  https://huggingface.co/blog/sagemaker-huggingface-llm\n",
    "\n",
    "  https://aws.amazon.com/jp/blogs/machine-learning/announcing-the-launch-of-new-hugging-face-llm-inference-containers-on-amazon-sagemaker/\n"
   ]
  },
  {
   "cell_type": "markdown",
   "metadata": {},
   "source": [
    "### SageMakerライブラリーのインストール"
   ]
  },
  {
   "cell_type": "code",
   "execution_count": 1,
   "metadata": {},
   "outputs": [
    {
     "name": "stdout",
     "output_type": "stream",
     "text": [
      "Requirement already up-to-date: sagemaker in /home/vscode/.local/lib/python3.8/site-packages (2.182.0)\n",
      "Collecting transformers\n",
      "  Downloading transformers-4.32.1-py3-none-any.whl (7.5 MB)\n",
      "\u001b[K     |████████████████████████████████| 7.5 MB 6.6 MB/s eta 0:00:01\n",
      "\u001b[?25hRequirement already satisfied, skipping upgrade: boto3<2.0,>=1.26.131 in /home/vscode/.local/lib/python3.8/site-packages (from sagemaker) (1.28.35)\n",
      "Requirement already satisfied, skipping upgrade: tblib==1.7.0 in /home/vscode/.local/lib/python3.8/site-packages (from sagemaker) (1.7.0)\n",
      "Requirement already satisfied, skipping upgrade: cloudpickle==2.2.1 in /home/vscode/.local/lib/python3.8/site-packages (from sagemaker) (2.2.1)\n",
      "Requirement already satisfied, skipping upgrade: platformdirs in /home/vscode/.local/lib/python3.8/site-packages (from sagemaker) (3.10.0)\n",
      "Requirement already satisfied, skipping upgrade: smdebug-rulesconfig==1.0.1 in /home/vscode/.local/lib/python3.8/site-packages (from sagemaker) (1.0.1)\n",
      "Requirement already satisfied, skipping upgrade: schema in /home/vscode/.local/lib/python3.8/site-packages (from sagemaker) (0.7.5)\n",
      "Requirement already satisfied, skipping upgrade: PyYAML~=6.0 in /home/vscode/.local/lib/python3.8/site-packages (from sagemaker) (6.0.1)\n",
      "Requirement already satisfied, skipping upgrade: pandas in /home/vscode/.local/lib/python3.8/site-packages (from sagemaker) (2.0.3)\n",
      "Requirement already satisfied, skipping upgrade: pathos in /home/vscode/.local/lib/python3.8/site-packages (from sagemaker) (0.3.1)\n",
      "Requirement already satisfied, skipping upgrade: numpy<2.0,>=1.9.0 in /home/vscode/.local/lib/python3.8/site-packages (from sagemaker) (1.24.4)\n",
      "Requirement already satisfied, skipping upgrade: protobuf<5.0,>=3.12 in /home/vscode/.local/lib/python3.8/site-packages (from sagemaker) (4.24.2)\n",
      "Requirement already satisfied, skipping upgrade: attrs<24,>=23.1.0 in /home/vscode/.local/lib/python3.8/site-packages (from sagemaker) (23.1.0)\n",
      "Requirement already satisfied, skipping upgrade: google-pasta in /home/vscode/.local/lib/python3.8/site-packages (from sagemaker) (0.2.0)\n",
      "Requirement already satisfied, skipping upgrade: packaging>=20.0 in /home/vscode/.local/lib/python3.8/site-packages (from sagemaker) (23.1)\n",
      "Requirement already satisfied, skipping upgrade: importlib-metadata<7.0,>=1.4.0 in /home/vscode/.local/lib/python3.8/site-packages (from sagemaker) (6.8.0)\n",
      "Requirement already satisfied, skipping upgrade: jsonschema in /home/vscode/.local/lib/python3.8/site-packages (from sagemaker) (4.19.0)\n",
      "Requirement already satisfied, skipping upgrade: huggingface-hub<1.0,>=0.15.1 in /home/vscode/.local/lib/python3.8/site-packages (from transformers) (0.16.4)\n",
      "Requirement already satisfied, skipping upgrade: requests in /home/vscode/.local/lib/python3.8/site-packages (from transformers) (2.31.0)\n",
      "Requirement already satisfied, skipping upgrade: regex!=2019.12.17 in /home/vscode/.local/lib/python3.8/site-packages (from transformers) (2023.8.8)\n",
      "Requirement already satisfied, skipping upgrade: tqdm>=4.27 in /home/vscode/.local/lib/python3.8/site-packages (from transformers) (4.66.1)\n",
      "Requirement already satisfied, skipping upgrade: filelock in /home/vscode/.local/lib/python3.8/site-packages (from transformers) (3.12.2)\n",
      "Collecting safetensors>=0.3.1\n",
      "  Downloading safetensors-0.3.3-cp38-cp38-manylinux_2_17_x86_64.manylinux2014_x86_64.whl (1.3 MB)\n",
      "\u001b[K     |████████████████████████████████| 1.3 MB 17.1 MB/s eta 0:00:01\n",
      "\u001b[?25hRequirement already satisfied, skipping upgrade: tokenizers!=0.11.3,<0.14,>=0.11.1 in /home/vscode/.local/lib/python3.8/site-packages (from transformers) (0.13.3)\n",
      "Requirement already satisfied, skipping upgrade: s3transfer<0.7.0,>=0.6.0 in /home/vscode/.local/lib/python3.8/site-packages (from boto3<2.0,>=1.26.131->sagemaker) (0.6.2)\n",
      "Requirement already satisfied, skipping upgrade: botocore<1.32.0,>=1.31.35 in /home/vscode/.local/lib/python3.8/site-packages (from boto3<2.0,>=1.26.131->sagemaker) (1.31.35)\n",
      "Requirement already satisfied, skipping upgrade: jmespath<2.0.0,>=0.7.1 in /home/vscode/.local/lib/python3.8/site-packages (from boto3<2.0,>=1.26.131->sagemaker) (1.0.1)\n",
      "Requirement already satisfied, skipping upgrade: contextlib2>=0.5.5 in /home/vscode/.local/lib/python3.8/site-packages (from schema->sagemaker) (21.6.0)\n",
      "Requirement already satisfied, skipping upgrade: python-dateutil>=2.8.2 in /home/vscode/.local/lib/python3.8/site-packages (from pandas->sagemaker) (2.8.2)\n",
      "Requirement already satisfied, skipping upgrade: tzdata>=2022.1 in /home/vscode/.local/lib/python3.8/site-packages (from pandas->sagemaker) (2023.3)\n",
      "Requirement already satisfied, skipping upgrade: pytz>=2020.1 in /home/vscode/.local/lib/python3.8/site-packages (from pandas->sagemaker) (2023.3)\n",
      "Requirement already satisfied, skipping upgrade: ppft>=1.7.6.7 in /home/vscode/.local/lib/python3.8/site-packages (from pathos->sagemaker) (1.7.6.7)\n",
      "Requirement already satisfied, skipping upgrade: dill>=0.3.7 in /home/vscode/.local/lib/python3.8/site-packages (from pathos->sagemaker) (0.3.7)\n",
      "Requirement already satisfied, skipping upgrade: pox>=0.3.3 in /home/vscode/.local/lib/python3.8/site-packages (from pathos->sagemaker) (0.3.3)\n",
      "Requirement already satisfied, skipping upgrade: multiprocess>=0.70.15 in /home/vscode/.local/lib/python3.8/site-packages (from pathos->sagemaker) (0.70.15)\n",
      "Requirement already satisfied, skipping upgrade: six in /home/vscode/.local/lib/python3.8/site-packages (from google-pasta->sagemaker) (1.16.0)\n",
      "Requirement already satisfied, skipping upgrade: zipp>=0.5 in /home/vscode/.local/lib/python3.8/site-packages (from importlib-metadata<7.0,>=1.4.0->sagemaker) (3.16.2)\n",
      "Requirement already satisfied, skipping upgrade: referencing>=0.28.4 in /home/vscode/.local/lib/python3.8/site-packages (from jsonschema->sagemaker) (0.30.2)\n",
      "Requirement already satisfied, skipping upgrade: pkgutil-resolve-name>=1.3.10; python_version < \"3.9\" in /home/vscode/.local/lib/python3.8/site-packages (from jsonschema->sagemaker) (1.3.10)\n",
      "Requirement already satisfied, skipping upgrade: jsonschema-specifications>=2023.03.6 in /home/vscode/.local/lib/python3.8/site-packages (from jsonschema->sagemaker) (2023.7.1)\n",
      "Requirement already satisfied, skipping upgrade: importlib-resources>=1.4.0; python_version < \"3.9\" in /home/vscode/.local/lib/python3.8/site-packages (from jsonschema->sagemaker) (6.0.1)\n",
      "Requirement already satisfied, skipping upgrade: rpds-py>=0.7.1 in /home/vscode/.local/lib/python3.8/site-packages (from jsonschema->sagemaker) (0.9.2)\n",
      "Requirement already satisfied, skipping upgrade: typing-extensions>=3.7.4.3 in /home/vscode/.local/lib/python3.8/site-packages (from huggingface-hub<1.0,>=0.15.1->transformers) (4.7.1)\n",
      "Requirement already satisfied, skipping upgrade: fsspec in /home/vscode/.local/lib/python3.8/site-packages (from huggingface-hub<1.0,>=0.15.1->transformers) (2023.6.0)\n",
      "Requirement already satisfied, skipping upgrade: charset-normalizer<4,>=2 in /home/vscode/.local/lib/python3.8/site-packages (from requests->transformers) (3.2.0)\n",
      "Requirement already satisfied, skipping upgrade: idna<4,>=2.5 in /home/vscode/.local/lib/python3.8/site-packages (from requests->transformers) (3.4)\n",
      "Requirement already satisfied, skipping upgrade: urllib3<3,>=1.21.1 in /home/vscode/.local/lib/python3.8/site-packages (from requests->transformers) (1.26.16)\n",
      "Requirement already satisfied, skipping upgrade: certifi>=2017.4.17 in /home/vscode/.local/lib/python3.8/site-packages (from requests->transformers) (2023.7.22)\n",
      "Installing collected packages: safetensors, transformers\n",
      "  Attempting uninstall: transformers\n",
      "    Found existing installation: transformers 4.26.0\n",
      "    Uninstalling transformers-4.26.0:\n",
      "      Successfully uninstalled transformers-4.26.0\n",
      "Successfully installed safetensors-0.3.3 transformers-4.32.1\n",
      "Note: you may need to restart the kernel to use updated packages.\n"
     ]
    }
   ],
   "source": [
    "%pip install sagemaker transformers --upgrade\n"
   ]
  },
  {
   "cell_type": "markdown",
   "metadata": {},
   "source": [
    "---"
   ]
  },
  {
   "cell_type": "markdown",
   "metadata": {},
   "source": [
    "### パラメーターを指定"
   ]
  },
  {
   "cell_type": "code",
   "execution_count": 2,
   "metadata": {},
   "outputs": [],
   "source": [
    "model_id = 'elyza/ELYZA-japanese-Llama-2-7b-fast-instruct'\n",
    "instance_type = 'ml.g4dn.12xlarge'\n",
    "gpus = '4'"
   ]
  },
  {
   "cell_type": "markdown",
   "metadata": {},
   "source": [
    "### インポート"
   ]
  },
  {
   "cell_type": "code",
   "execution_count": 3,
   "metadata": {},
   "outputs": [],
   "source": [
    "import sagemaker\n",
    "import boto3\n"
   ]
  },
  {
   "cell_type": "markdown",
   "metadata": {},
   "source": [
    "### IAMロールの取得"
   ]
  },
  {
   "cell_type": "code",
   "execution_count": 4,
   "metadata": {},
   "outputs": [
    {
     "name": "stderr",
     "output_type": "stream",
     "text": [
      "Couldn't call 'get_role' to get Role ARN from role name inspiron14 to get Role path.\n"
     ]
    }
   ],
   "source": [
    "try:\n",
    "\trole = sagemaker.get_execution_role()\n",
    "except ValueError:\n",
    "\tiam = boto3.client('iam')\n",
    "\trole_name = 'AmazonSageMaker-ExecutionRole-20230617T201891' # Role name with `AmazonSageMakerFullAccess` policy attached\n",
    "\trole = iam.get_role(RoleName=role_name)['Role']['Arn']\n"
   ]
  },
  {
   "cell_type": "markdown",
   "metadata": {},
   "source": [
    "### SageMakerへデプロイ"
   ]
  },
  {
   "cell_type": "code",
   "execution_count": 5,
   "metadata": {},
   "outputs": [
    {
     "name": "stdout",
     "output_type": "stream",
     "text": [
      "----------!"
     ]
    }
   ],
   "source": [
    "from sagemaker.huggingface.model import HuggingFaceModel\n",
    "from sagemaker.huggingface import get_huggingface_llm_image_uri\n",
    "\n",
    "image_uri = get_huggingface_llm_image_uri(\n",
    "  backend='huggingface', # or lmi\n",
    "  # region=region\n",
    ")\n",
    "\n",
    "# Hub model configuration <https://huggingface.co/models>\n",
    "hub = {\n",
    "  'HF_MODEL_ID': model_id, # model_id from hf.co/models\n",
    "  'HF_TASK':'text-generation',          # NLP task you want to use for predictions\n",
    "  # 'HF_MODEL_QUANTIZE':'bitsandbytes',\n",
    "  'SM_NUM_GPUS': gpus,\n",
    "}\n",
    "\n",
    "# create Hugging Face Model Class\n",
    "huggingface_model = HuggingFaceModel(\n",
    "  env=hub,                            # configuration for loading model from Hub\n",
    "  role=role,                          # IAM role with permissions to create an endpoint\n",
    "  image_uri=image_uri\n",
    ")\n",
    "\n",
    "# deploy model to SageMaker Inference\n",
    "predictor = huggingface_model.deploy(\n",
    "  initial_instance_count=1,\n",
    "  instance_type=instance_type,\n",
    "  container_startup_health_check_timeout=600,\n",
    ")\n"
   ]
  },
  {
   "cell_type": "markdown",
   "metadata": {},
   "source": [
    "### 推論"
   ]
  },
  {
   "cell_type": "code",
   "execution_count": 6,
   "metadata": {},
   "outputs": [
    {
     "name": "stderr",
     "output_type": "stream",
     "text": [
      "/home/vscode/.local/lib/python3.8/site-packages/tqdm/auto.py:21: TqdmWarning: IProgress not found. Please update jupyter and ipywidgets. See https://ipywidgets.readthedocs.io/en/stable/user_install.html\n",
      "  from .autonotebook import tqdm as notebook_tqdm\n",
      "Downloading (…)/main/tokenizer.json: 100%|██████████| 2.17M/2.17M [00:00<00:00, 2.61MB/s]\n",
      "Downloading (…)cial_tokens_map.json: 100%|██████████| 437/437 [00:00<00:00, 86.5kB/s]\n"
     ]
    },
    {
     "data": {
      "text/plain": [
       "[{'generated_text': '<s>[INST] <<SYS>>\\nあなたは誠実で優秀な日本人のアシスタントです。\\n<</SYS>>\\n\\nクマが海辺に行ってアザラシと友達になり、最終的には家に帰るというプロットの短編小説を書いてください。 [/INST] クマが海辺に行ってアザラシと友達になり、最終的には家に帰るというプロットの短編小説を作成します。\\n\\nクマの名前はキリっとしています。キリっとしたクマは海辺にやってきました。\\n\\n海辺でキリっとしたクマはアザラシに出会います。\\n\\nアザラシの名前はフワフワしています。フワフワしたアザラシはキリっとしたクマに話しかけます。\\n\\n「どうして海辺にいるの？」\\n\\n「家から遠くにいるのが好きなんです。」\\n\\n「私は海辺が好きなんです。」\\n\\n「じゃあ、友達になってください。」\\n\\n「いいよ。」\\n\\nキリっとしたクマとフワフワしたアザラシは友達になります。\\n\\n2匹は海辺でたくさん遊んでいました。\\n\\n「家に帰りたいです。」\\n\\n「私も家が好きなんです。」\\n\\n「じゃあ、家に帰ろう。」\\n\\nキリっとしたクマとフワフワしたアザラシは家に帰ります。\\n\\n2匹は家に帰'}]"
      ]
     },
     "execution_count": 6,
     "metadata": {},
     "output_type": "execute_result"
    }
   ],
   "source": [
    "from transformers import AutoTokenizer\n",
    "tokenizer = AutoTokenizer.from_pretrained(model_id)\n",
    "\n",
    "B_INST, E_INST = \"[INST]\", \"[/INST]\"\n",
    "B_SYS, E_SYS = \"<<SYS>>\\n\", \"\\n<</SYS>>\\n\\n\"\n",
    "DEFAULT_SYSTEM_PROMPT = \"あなたは誠実で優秀な日本人のアシスタントです。\"\n",
    "text = \"クマが海辺に行ってアザラシと友達になり、最終的には家に帰るというプロットの短編小説を書いてください。\"\n",
    "\n",
    "prompt = \"{bos_token}{b_inst} {system}{prompt} {e_inst} \".format(\n",
    "    bos_token=tokenizer.bos_token,\n",
    "    b_inst=B_INST,\n",
    "    system=f\"{B_SYS}{DEFAULT_SYSTEM_PROMPT}{E_SYS}\",\n",
    "    prompt=text,\n",
    "    e_inst=E_INST,\n",
    ")\n",
    "\n",
    "\n",
    "data = {\n",
    "   'inputs': prompt,\n",
    "   'parameters': {\n",
    "        'max_new_tokens': 256,\n",
    "        'pad_token_id': tokenizer.pad_token_id,\n",
    "        'eos_token_id': tokenizer.eos_token_id,\n",
    "   }\n",
    "}\n",
    "\n",
    "# request\n",
    "result = predictor.predict(data)\n",
    "\n",
    "result\n"
   ]
  },
  {
   "cell_type": "markdown",
   "metadata": {},
   "source": [
    "### エンドポイントの削除"
   ]
  },
  {
   "cell_type": "code",
   "execution_count": 7,
   "metadata": {},
   "outputs": [],
   "source": [
    "predictor.delete_endpoint(delete_endpoint_config=False)\n",
    "predictor.delete_model()\n"
   ]
  }
 ],
 "metadata": {
  "kernelspec": {
   "display_name": "Python 3",
   "language": "python",
   "name": "python3"
  },
  "language_info": {
   "codemirror_mode": {
    "name": "ipython",
    "version": 3
   },
   "file_extension": ".py",
   "mimetype": "text/x-python",
   "name": "python",
   "nbconvert_exporter": "python",
   "pygments_lexer": "ipython3",
   "version": "3.8.10"
  },
  "orig_nbformat": 4
 },
 "nbformat": 4,
 "nbformat_minor": 2
}
