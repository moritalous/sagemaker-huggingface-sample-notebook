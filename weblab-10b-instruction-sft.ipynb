{
 "cells": [
  {
   "cell_type": "markdown",
   "metadata": {},
   "source": [
    "# Hugging Faceで公開されている大規模言語モデルをSageMakerにデプロイ\n",
    "\n",
    "\n",
    "* 対象モデル\n",
    "  \n",
    "  matsuo-lab/weblab-10b-instruction-sft\n",
    "  \n",
    "  https://huggingface.co/matsuo-lab/weblab-10b-instruction-sft\n"
   ]
  },
  {
   "cell_type": "markdown",
   "metadata": {},
   "source": [
    "### SageMakerライブラリーのインストール"
   ]
  },
  {
   "cell_type": "code",
   "execution_count": 1,
   "metadata": {},
   "outputs": [
    {
     "name": "stdout",
     "output_type": "stream",
     "text": [
      "Collecting sagemaker\n",
      "  Downloading sagemaker-2.181.0.tar.gz (868 kB)\n",
      "\u001b[K     |████████████████████████████████| 868 kB 4.6 MB/s eta 0:00:01\n",
      "\u001b[?25hRequirement already satisfied, skipping upgrade: PyYAML~=6.0 in /home/vscode/.local/lib/python3.8/site-packages (from sagemaker) (6.0.1)\n",
      "Requirement already satisfied, skipping upgrade: attrs<24,>=23.1.0 in /home/vscode/.local/lib/python3.8/site-packages (from sagemaker) (23.1.0)\n",
      "Requirement already satisfied, skipping upgrade: boto3<2.0,>=1.26.131 in /home/vscode/.local/lib/python3.8/site-packages (from sagemaker) (1.28.35)\n",
      "Requirement already satisfied, skipping upgrade: cloudpickle==2.2.1 in /home/vscode/.local/lib/python3.8/site-packages (from sagemaker) (2.2.1)\n",
      "Requirement already satisfied, skipping upgrade: google-pasta in /home/vscode/.local/lib/python3.8/site-packages (from sagemaker) (0.2.0)\n",
      "Requirement already satisfied, skipping upgrade: importlib-metadata<7.0,>=1.4.0 in /home/vscode/.local/lib/python3.8/site-packages (from sagemaker) (6.8.0)\n",
      "Requirement already satisfied, skipping upgrade: jsonschema in /home/vscode/.local/lib/python3.8/site-packages (from sagemaker) (4.19.0)\n",
      "Requirement already satisfied, skipping upgrade: numpy<2.0,>=1.9.0 in /home/vscode/.local/lib/python3.8/site-packages (from sagemaker) (1.24.4)\n",
      "Requirement already satisfied, skipping upgrade: packaging>=20.0 in /home/vscode/.local/lib/python3.8/site-packages (from sagemaker) (23.1)\n",
      "Requirement already satisfied, skipping upgrade: pandas in /home/vscode/.local/lib/python3.8/site-packages (from sagemaker) (2.0.3)\n",
      "Requirement already satisfied, skipping upgrade: pathos in /home/vscode/.local/lib/python3.8/site-packages (from sagemaker) (0.3.1)\n",
      "Requirement already satisfied, skipping upgrade: platformdirs in /home/vscode/.local/lib/python3.8/site-packages (from sagemaker) (3.10.0)\n",
      "Requirement already satisfied, skipping upgrade: protobuf<5.0,>=3.12 in /home/vscode/.local/lib/python3.8/site-packages (from sagemaker) (4.24.2)\n",
      "Requirement already satisfied, skipping upgrade: schema in /home/vscode/.local/lib/python3.8/site-packages (from sagemaker) (0.7.5)\n",
      "Requirement already satisfied, skipping upgrade: smdebug_rulesconfig==1.0.1 in /home/vscode/.local/lib/python3.8/site-packages (from sagemaker) (1.0.1)\n",
      "Requirement already satisfied, skipping upgrade: tblib==1.7.0 in /home/vscode/.local/lib/python3.8/site-packages (from sagemaker) (1.7.0)\n",
      "Requirement already satisfied, skipping upgrade: botocore<1.32.0,>=1.31.35 in /home/vscode/.local/lib/python3.8/site-packages (from boto3<2.0,>=1.26.131->sagemaker) (1.31.35)\n",
      "Requirement already satisfied, skipping upgrade: s3transfer<0.7.0,>=0.6.0 in /home/vscode/.local/lib/python3.8/site-packages (from boto3<2.0,>=1.26.131->sagemaker) (0.6.2)\n",
      "Requirement already satisfied, skipping upgrade: jmespath<2.0.0,>=0.7.1 in /home/vscode/.local/lib/python3.8/site-packages (from boto3<2.0,>=1.26.131->sagemaker) (1.0.1)\n",
      "Requirement already satisfied, skipping upgrade: six in /home/vscode/.local/lib/python3.8/site-packages (from google-pasta->sagemaker) (1.16.0)\n",
      "Requirement already satisfied, skipping upgrade: zipp>=0.5 in /home/vscode/.local/lib/python3.8/site-packages (from importlib-metadata<7.0,>=1.4.0->sagemaker) (3.16.2)\n",
      "Requirement already satisfied, skipping upgrade: rpds-py>=0.7.1 in /home/vscode/.local/lib/python3.8/site-packages (from jsonschema->sagemaker) (0.9.2)\n",
      "Requirement already satisfied, skipping upgrade: jsonschema-specifications>=2023.03.6 in /home/vscode/.local/lib/python3.8/site-packages (from jsonschema->sagemaker) (2023.7.1)\n",
      "Requirement already satisfied, skipping upgrade: importlib-resources>=1.4.0; python_version < \"3.9\" in /home/vscode/.local/lib/python3.8/site-packages (from jsonschema->sagemaker) (6.0.1)\n",
      "Requirement already satisfied, skipping upgrade: referencing>=0.28.4 in /home/vscode/.local/lib/python3.8/site-packages (from jsonschema->sagemaker) (0.30.2)\n",
      "Requirement already satisfied, skipping upgrade: pkgutil-resolve-name>=1.3.10; python_version < \"3.9\" in /home/vscode/.local/lib/python3.8/site-packages (from jsonschema->sagemaker) (1.3.10)\n",
      "Requirement already satisfied, skipping upgrade: python-dateutil>=2.8.2 in /home/vscode/.local/lib/python3.8/site-packages (from pandas->sagemaker) (2.8.2)\n",
      "Requirement already satisfied, skipping upgrade: pytz>=2020.1 in /home/vscode/.local/lib/python3.8/site-packages (from pandas->sagemaker) (2023.3)\n",
      "Requirement already satisfied, skipping upgrade: tzdata>=2022.1 in /home/vscode/.local/lib/python3.8/site-packages (from pandas->sagemaker) (2023.3)\n",
      "Requirement already satisfied, skipping upgrade: ppft>=1.7.6.7 in /home/vscode/.local/lib/python3.8/site-packages (from pathos->sagemaker) (1.7.6.7)\n",
      "Requirement already satisfied, skipping upgrade: pox>=0.3.3 in /home/vscode/.local/lib/python3.8/site-packages (from pathos->sagemaker) (0.3.3)\n",
      "Requirement already satisfied, skipping upgrade: multiprocess>=0.70.15 in /home/vscode/.local/lib/python3.8/site-packages (from pathos->sagemaker) (0.70.15)\n",
      "Requirement already satisfied, skipping upgrade: dill>=0.3.7 in /home/vscode/.local/lib/python3.8/site-packages (from pathos->sagemaker) (0.3.7)\n",
      "Requirement already satisfied, skipping upgrade: contextlib2>=0.5.5 in /home/vscode/.local/lib/python3.8/site-packages (from schema->sagemaker) (21.6.0)\n",
      "Requirement already satisfied, skipping upgrade: urllib3<1.27,>=1.25.4 in /home/vscode/.local/lib/python3.8/site-packages (from botocore<1.32.0,>=1.31.35->boto3<2.0,>=1.26.131->sagemaker) (1.26.16)\n",
      "Building wheels for collected packages: sagemaker\n",
      "  Building wheel for sagemaker (setup.py) ... \u001b[?25ldone\n",
      "\u001b[?25h  Created wheel for sagemaker: filename=sagemaker-2.181.0-py2.py3-none-any.whl size=1184816 sha256=5c0e137c7a4e34acee87efc2f3c500cba71970c252a175dc522165d5a434c506\n",
      "  Stored in directory: /home/vscode/.cache/pip/wheels/e5/62/d5/de3a132e0044a606f7f75e6cae3666b6f08402c717b997b154\n",
      "Successfully built sagemaker\n",
      "Installing collected packages: sagemaker\n",
      "  Attempting uninstall: sagemaker\n",
      "    Found existing installation: sagemaker 2.180.0\n",
      "    Uninstalling sagemaker-2.180.0:\n",
      "      Successfully uninstalled sagemaker-2.180.0\n",
      "Successfully installed sagemaker-2.181.0\n",
      "Note: you may need to restart the kernel to use updated packages.\n"
     ]
    }
   ],
   "source": [
    "%pip install sagemaker --upgrade\n"
   ]
  },
  {
   "cell_type": "markdown",
   "metadata": {},
   "source": [
    "### インポート"
   ]
  },
  {
   "cell_type": "code",
   "execution_count": 2,
   "metadata": {},
   "outputs": [],
   "source": [
    "import sagemaker\n",
    "import boto3\n"
   ]
  },
  {
   "cell_type": "markdown",
   "metadata": {},
   "source": [
    "### IAMロールの取得"
   ]
  },
  {
   "cell_type": "code",
   "execution_count": 3,
   "metadata": {},
   "outputs": [
    {
     "name": "stderr",
     "output_type": "stream",
     "text": [
      "Couldn't call 'get_role' to get Role ARN from role name inspiron14 to get Role path.\n"
     ]
    }
   ],
   "source": [
    "try:\n",
    "\trole = sagemaker.get_execution_role()\n",
    "except ValueError:\n",
    "\tiam = boto3.client('iam')\n",
    "\trole_name = 'AmazonSageMaker-ExecutionRole-20230617T201891' # Role name with `AmazonSageMakerFullAccess` policy attached\n",
    "\trole = iam.get_role(RoleName=role_name)['Role']['Arn']\n"
   ]
  },
  {
   "cell_type": "markdown",
   "metadata": {},
   "source": [
    "### モデル名などのパラメーターを指定"
   ]
  },
  {
   "cell_type": "code",
   "execution_count": 4,
   "metadata": {},
   "outputs": [],
   "source": [
    "model_id = 'matsuo-lab/weblab-10b-instruction-sft'\n",
    "instance_type = 'ml.g5.12xlarge'\n"
   ]
  },
  {
   "cell_type": "markdown",
   "metadata": {},
   "source": [
    "### SageMakerへデプロイ"
   ]
  },
  {
   "cell_type": "code",
   "execution_count": 5,
   "metadata": {},
   "outputs": [
    {
     "name": "stdout",
     "output_type": "stream",
     "text": [
      "----------!"
     ]
    }
   ],
   "source": [
    "from sagemaker.huggingface.model import HuggingFaceModel\n",
    "from sagemaker.huggingface import get_huggingface_llm_image_uri\n",
    "\n",
    "image_uri = get_huggingface_llm_image_uri(\n",
    "  backend='huggingface', # or lmi\n",
    "  # region=region\n",
    ")\n",
    "\n",
    "# Hub model configuration <https://huggingface.co/models>\n",
    "hub = {\n",
    "  'HF_MODEL_ID': model_id, # model_id from hf.co/models\n",
    "  'HF_TASK':'text-generation',          # NLP task you want to use for predictions\n",
    "  # 'HF_MODEL_QUANTIZE':'bitsandbytes',\n",
    "  'SM_NUM_GPUS': '2',\n",
    "}\n",
    "\n",
    "# create Hugging Face Model Class\n",
    "huggingface_model = HuggingFaceModel(\n",
    "  env=hub,                            # configuration for loading model from Hub\n",
    "  role=role,                          # IAM role with permissions to create an endpoint\n",
    "  # transformers_version='4.28',        # Transformers version used\n",
    "  # pytorch_version='2.0',              # PyTorch version used\n",
    "  # py_version='py310',                 # Python version used\n",
    "  image_uri=image_uri\n",
    ")\n",
    "\n",
    "# deploy model to SageMaker Inference\n",
    "predictor = huggingface_model.deploy(\n",
    "  initial_instance_count=1,\n",
    "  instance_type=instance_type,\n",
    "  container_startup_health_check_timeout=600,\n",
    ")\n"
   ]
  },
  {
   "cell_type": "markdown",
   "metadata": {},
   "source": [
    "### 推論"
   ]
  },
  {
   "cell_type": "code",
   "execution_count": 6,
   "metadata": {},
   "outputs": [
    {
     "data": {
      "text/plain": [
       "[{'generated_text': '以下は、タスクを説明する指示です。要求を適切に満たす応答を書きなさい。\\n\\n### 指示:\\n大規模言語モデルについて説明してください。\\n\\n### 応答:大規模言語モデルは、大規模なデータセットから学習することができるニューラルネットワークモデルの一種です。大規模な言語モデルは、大量のデータセットを使用して、さまざまな種類の言語を認識し、学�'}]"
      ]
     },
     "execution_count": 6,
     "metadata": {},
     "output_type": "execute_result"
    }
   ],
   "source": [
    "text = \"大規模言語モデルについて説明してください。\"\n",
    "text = f'以下は、タスクを説明する指示です。要求を適切に満たす応答を書きなさい。\\n\\n### 指示:\\n{text}\\n\\n### 応答:'\n",
    "\n",
    "data = {\n",
    "   'inputs': text,\n",
    "   'parameters': {\n",
    "        'max_new_tokens': 100,\n",
    "        'do_sample': True,\n",
    "        'temperature': 0.7,\n",
    "        'top_p': 0.95  \n",
    "   }\n",
    "}\n",
    "\n",
    "# request\n",
    "result = predictor.predict(data)\n",
    "\n",
    "result\n"
   ]
  },
  {
   "cell_type": "markdown",
   "metadata": {},
   "source": [
    "### エンドポイントの削除"
   ]
  },
  {
   "cell_type": "code",
   "execution_count": 7,
   "metadata": {},
   "outputs": [],
   "source": [
    "predictor.delete_endpoint(delete_endpoint_config=False)\n",
    "predictor.delete_model()\n"
   ]
  }
 ],
 "metadata": {
  "kernelspec": {
   "display_name": "Python 3",
   "language": "python",
   "name": "python3"
  },
  "language_info": {
   "codemirror_mode": {
    "name": "ipython",
    "version": 3
   },
   "file_extension": ".py",
   "mimetype": "text/x-python",
   "name": "python",
   "nbconvert_exporter": "python",
   "pygments_lexer": "ipython3",
   "version": "3.8.10"
  },
  "orig_nbformat": 4
 },
 "nbformat": 4,
 "nbformat_minor": 2
}
